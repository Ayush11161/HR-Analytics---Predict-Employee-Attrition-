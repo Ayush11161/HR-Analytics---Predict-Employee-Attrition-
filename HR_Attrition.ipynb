{
 "cells": [
  {
   "cell_type": "markdown",
   "id": "abe36265-5ed3-46aa-b200-e275b0ab9e88",
   "metadata": {},
   "source": [
    "# ==========================\n",
    "# HR Analytics – Predict Employee Attrition\n",
    "# Author: Ayush Rawat\n",
    "# =========================="
   ]
  },
  {
   "cell_type": "markdown",
   "id": "2d8943a2-998c-447e-9710-40d58867dd74",
   "metadata": {},
   "source": [
    "# 1. IMPORT LIBRARIES"
   ]
  },
  {
   "cell_type": "code",
   "execution_count": 1,
   "id": "53683437-7a8f-4b67-a552-b6f790578229",
   "metadata": {},
   "outputs": [],
   "source": [
    "import os\n",
    "import warnings\n",
    "warnings.filterwarnings(\"ignore\")\n",
    "\n",
    "import pandas as pd\n",
    "import numpy as np\n",
    "from pathlib import Path\n",
    "\n",
    "from sklearn.model_selection import train_test_split\n",
    "from sklearn.preprocessing import OneHotEncoder, StandardScaler\n",
    "from sklearn.compose import ColumnTransformer\n",
    "from sklearn.pipeline import Pipeline\n",
    "from sklearn.linear_model import LogisticRegression\n",
    "from sklearn.tree import DecisionTreeClassifier\n",
    "from sklearn.ensemble import RandomForestClassifier\n",
    "from sklearn.metrics import (\n",
    "    accuracy_score, roc_auc_score, roc_curve,\n",
    "    confusion_matrix, classification_report\n",
    ")\n",
    "\n",
    "import matplotlib.pyplot as plt\n",
    "import joblib\n",
    "from packaging import version\n",
    "import sklearn\n",
    "RND = 42\n",
    "np.random.seed(RND)"
   ]
  },
  {
   "cell_type": "markdown",
   "id": "8941dc5d-9709-4997-adb3-89f1aec50b74",
   "metadata": {},
   "source": [
    "# 2. Loading data"
   ]
  },
  {
   "cell_type": "code",
   "execution_count": 2,
   "id": "b48fa033-f0c6-4dd4-aa47-7b3cdc5a6728",
   "metadata": {},
   "outputs": [
    {
     "name": "stdout",
     "output_type": "stream",
     "text": [
      "Loaded dataset: HR_Dataset.csv\n",
      "Shape: (1470, 35)\n"
     ]
    },
    {
     "data": {
      "text/html": [
       "<div>\n",
       "<style scoped>\n",
       "    .dataframe tbody tr th:only-of-type {\n",
       "        vertical-align: middle;\n",
       "    }\n",
       "\n",
       "    .dataframe tbody tr th {\n",
       "        vertical-align: top;\n",
       "    }\n",
       "\n",
       "    .dataframe thead th {\n",
       "        text-align: right;\n",
       "    }\n",
       "</style>\n",
       "<table border=\"1\" class=\"dataframe\">\n",
       "  <thead>\n",
       "    <tr style=\"text-align: right;\">\n",
       "      <th></th>\n",
       "      <th>Age</th>\n",
       "      <th>Attrition</th>\n",
       "      <th>BusinessTravel</th>\n",
       "      <th>DailyRate</th>\n",
       "      <th>Department</th>\n",
       "      <th>DistanceFromHome</th>\n",
       "      <th>Education</th>\n",
       "      <th>EducationField</th>\n",
       "      <th>EmployeeCount</th>\n",
       "      <th>EmployeeNumber</th>\n",
       "      <th>...</th>\n",
       "      <th>RelationshipSatisfaction</th>\n",
       "      <th>StandardHours</th>\n",
       "      <th>StockOptionLevel</th>\n",
       "      <th>TotalWorkingYears</th>\n",
       "      <th>TrainingTimesLastYear</th>\n",
       "      <th>WorkLifeBalance</th>\n",
       "      <th>YearsAtCompany</th>\n",
       "      <th>YearsInCurrentRole</th>\n",
       "      <th>YearsSinceLastPromotion</th>\n",
       "      <th>YearsWithCurrManager</th>\n",
       "    </tr>\n",
       "  </thead>\n",
       "  <tbody>\n",
       "    <tr>\n",
       "      <th>0</th>\n",
       "      <td>41</td>\n",
       "      <td>Yes</td>\n",
       "      <td>Travel_Rarely</td>\n",
       "      <td>1102</td>\n",
       "      <td>Sales</td>\n",
       "      <td>1</td>\n",
       "      <td>2</td>\n",
       "      <td>Life Sciences</td>\n",
       "      <td>1</td>\n",
       "      <td>1</td>\n",
       "      <td>...</td>\n",
       "      <td>1</td>\n",
       "      <td>80</td>\n",
       "      <td>0</td>\n",
       "      <td>8</td>\n",
       "      <td>0</td>\n",
       "      <td>1</td>\n",
       "      <td>6</td>\n",
       "      <td>4</td>\n",
       "      <td>0</td>\n",
       "      <td>5</td>\n",
       "    </tr>\n",
       "    <tr>\n",
       "      <th>1</th>\n",
       "      <td>49</td>\n",
       "      <td>No</td>\n",
       "      <td>Travel_Frequently</td>\n",
       "      <td>279</td>\n",
       "      <td>Research &amp; Development</td>\n",
       "      <td>8</td>\n",
       "      <td>1</td>\n",
       "      <td>Life Sciences</td>\n",
       "      <td>1</td>\n",
       "      <td>2</td>\n",
       "      <td>...</td>\n",
       "      <td>4</td>\n",
       "      <td>80</td>\n",
       "      <td>1</td>\n",
       "      <td>10</td>\n",
       "      <td>3</td>\n",
       "      <td>3</td>\n",
       "      <td>10</td>\n",
       "      <td>7</td>\n",
       "      <td>1</td>\n",
       "      <td>7</td>\n",
       "    </tr>\n",
       "    <tr>\n",
       "      <th>2</th>\n",
       "      <td>37</td>\n",
       "      <td>Yes</td>\n",
       "      <td>Travel_Rarely</td>\n",
       "      <td>1373</td>\n",
       "      <td>Research &amp; Development</td>\n",
       "      <td>2</td>\n",
       "      <td>2</td>\n",
       "      <td>Other</td>\n",
       "      <td>1</td>\n",
       "      <td>4</td>\n",
       "      <td>...</td>\n",
       "      <td>2</td>\n",
       "      <td>80</td>\n",
       "      <td>0</td>\n",
       "      <td>7</td>\n",
       "      <td>3</td>\n",
       "      <td>3</td>\n",
       "      <td>0</td>\n",
       "      <td>0</td>\n",
       "      <td>0</td>\n",
       "      <td>0</td>\n",
       "    </tr>\n",
       "    <tr>\n",
       "      <th>3</th>\n",
       "      <td>33</td>\n",
       "      <td>No</td>\n",
       "      <td>Travel_Frequently</td>\n",
       "      <td>1392</td>\n",
       "      <td>Research &amp; Development</td>\n",
       "      <td>3</td>\n",
       "      <td>4</td>\n",
       "      <td>Life Sciences</td>\n",
       "      <td>1</td>\n",
       "      <td>5</td>\n",
       "      <td>...</td>\n",
       "      <td>3</td>\n",
       "      <td>80</td>\n",
       "      <td>0</td>\n",
       "      <td>8</td>\n",
       "      <td>3</td>\n",
       "      <td>3</td>\n",
       "      <td>8</td>\n",
       "      <td>7</td>\n",
       "      <td>3</td>\n",
       "      <td>0</td>\n",
       "    </tr>\n",
       "    <tr>\n",
       "      <th>4</th>\n",
       "      <td>27</td>\n",
       "      <td>No</td>\n",
       "      <td>Travel_Rarely</td>\n",
       "      <td>591</td>\n",
       "      <td>Research &amp; Development</td>\n",
       "      <td>2</td>\n",
       "      <td>1</td>\n",
       "      <td>Medical</td>\n",
       "      <td>1</td>\n",
       "      <td>7</td>\n",
       "      <td>...</td>\n",
       "      <td>4</td>\n",
       "      <td>80</td>\n",
       "      <td>1</td>\n",
       "      <td>6</td>\n",
       "      <td>3</td>\n",
       "      <td>3</td>\n",
       "      <td>2</td>\n",
       "      <td>2</td>\n",
       "      <td>2</td>\n",
       "      <td>2</td>\n",
       "    </tr>\n",
       "  </tbody>\n",
       "</table>\n",
       "<p>5 rows × 35 columns</p>\n",
       "</div>"
      ],
      "text/plain": [
       "   Age Attrition     BusinessTravel  DailyRate              Department  \\\n",
       "0   41       Yes      Travel_Rarely       1102                   Sales   \n",
       "1   49        No  Travel_Frequently        279  Research & Development   \n",
       "2   37       Yes      Travel_Rarely       1373  Research & Development   \n",
       "3   33        No  Travel_Frequently       1392  Research & Development   \n",
       "4   27        No      Travel_Rarely        591  Research & Development   \n",
       "\n",
       "   DistanceFromHome  Education EducationField  EmployeeCount  EmployeeNumber  \\\n",
       "0                 1          2  Life Sciences              1               1   \n",
       "1                 8          1  Life Sciences              1               2   \n",
       "2                 2          2          Other              1               4   \n",
       "3                 3          4  Life Sciences              1               5   \n",
       "4                 2          1        Medical              1               7   \n",
       "\n",
       "   ...  RelationshipSatisfaction StandardHours  StockOptionLevel  \\\n",
       "0  ...                         1            80                 0   \n",
       "1  ...                         4            80                 1   \n",
       "2  ...                         2            80                 0   \n",
       "3  ...                         3            80                 0   \n",
       "4  ...                         4            80                 1   \n",
       "\n",
       "   TotalWorkingYears  TrainingTimesLastYear WorkLifeBalance  YearsAtCompany  \\\n",
       "0                  8                      0               1               6   \n",
       "1                 10                      3               3              10   \n",
       "2                  7                      3               3               0   \n",
       "3                  8                      3               3               8   \n",
       "4                  6                      3               3               2   \n",
       "\n",
       "  YearsInCurrentRole  YearsSinceLastPromotion  YearsWithCurrManager  \n",
       "0                  4                        0                     5  \n",
       "1                  7                        1                     7  \n",
       "2                  0                        0                     0  \n",
       "3                  7                        3                     0  \n",
       "4                  2                        2                     2  \n",
       "\n",
       "[5 rows x 35 columns]"
      ]
     },
     "execution_count": 2,
     "metadata": {},
     "output_type": "execute_result"
    }
   ],
   "source": [
    "df=pd.read_csv('HR_Dataset.csv')\n",
    "print(\"Loaded dataset:\", 'HR_Dataset.csv')\n",
    "print(\"Shape:\", df.shape)\n",
    "df.head()"
   ]
  },
  {
   "cell_type": "markdown",
   "id": "efc64844-d296-4dad-a56b-99510195b319",
   "metadata": {},
   "source": [
    "# 3. Preprocessing & Target Encoding"
   ]
  },
  {
   "cell_type": "code",
   "execution_count": 3,
   "id": "a5a44c96-0d5f-4dab-829b-b193363b8b83",
   "metadata": {},
   "outputs": [
    {
     "name": "stdout",
     "output_type": "stream",
     "text": [
      "\n",
      "Attrition Distribution:\n",
      "Attrition_flag\n",
      "0    0.838776\n",
      "1    0.161224\n",
      "Name: proportion, dtype: float64\n"
     ]
    }
   ],
   "source": [
    "df['Attrition_flag'] = df['Attrition'].map({'Yes': 1, 'No': 0})\n",
    "print(\"\\nAttrition Distribution:\")\n",
    "print(df['Attrition_flag'].value_counts(normalize=True))\n",
    "\n",
    "# Drop unnecessary columns\n",
    "drop_cols = ['EmployeeNumber', 'EmployeeCount', 'Over18', 'StandardHours']\n",
    "df.drop(columns=[c for c in drop_cols if c in df.columns], inplace=True)\n",
    "\n",
    "# Separate features and target\n",
    "X = df.drop(columns=['Attrition', 'Attrition_flag'])\n",
    "y = df['Attrition_flag']"
   ]
  },
  {
   "cell_type": "markdown",
   "id": "66d342cd-f6b5-42ba-846b-4f495dbe2f56",
   "metadata": {},
   "source": [
    "# 4. Train-Test Split"
   ]
  },
  {
   "cell_type": "code",
   "execution_count": 4,
   "id": "f4dab4cc-0bcd-4aec-b250-b42c257f4769",
   "metadata": {},
   "outputs": [
    {
     "name": "stdout",
     "output_type": "stream",
     "text": [
      "\n",
      "Train Shape: (1176, 30), Test Shape: (294, 30)\n"
     ]
    }
   ],
   "source": [
    "X_train, X_test, y_train, y_test = train_test_split(\n",
    "    X, y, test_size=0.2, stratify=y, random_state=42\n",
    ")\n",
    "print(f\"\\nTrain Shape: {X_train.shape}, Test Shape: {X_test.shape}\")\n"
   ]
  },
  {
   "cell_type": "markdown",
   "id": "181d12d7-a6d1-4f37-b09d-0c5d951bda21",
   "metadata": {},
   "source": [
    "# 5. Data Preprocessing Pipeline"
   ]
  },
  {
   "cell_type": "code",
   "execution_count": 5,
   "id": "473b4e55-b4e1-4980-bfb8-cafe945419ef",
   "metadata": {},
   "outputs": [
    {
     "name": "stdout",
     "output_type": "stream",
     "text": [
      "\n",
      "Numeric Columns: 23\n",
      "Categorical Columns: 7\n"
     ]
    }
   ],
   "source": [
    "num_cols = X.select_dtypes(include=['int64', 'float64']).columns.tolist()\n",
    "cat_cols = X.select_dtypes(include=['object', 'category']).columns.tolist()\n",
    "\n",
    "print(\"\\nNumeric Columns:\", len(num_cols))\n",
    "print(\"Categorical Columns:\", len(cat_cols))\n",
    "\n",
    "# Handle OneHotEncoder param difference for sklearn version\n",
    "import sklearn\n",
    "from packaging import version\n",
    "ohe_kwargs = {'sparse_output': False} if version.parse(sklearn.__version__) >= version.parse(\"1.4\") else {'sparse': False}\n",
    "\n",
    "num_transformer = Pipeline(steps=[('scaler', StandardScaler())])\n",
    "cat_transformer = Pipeline(steps=[('encoder', OneHotEncoder(handle_unknown='ignore', **ohe_kwargs))])\n",
    "\n",
    "preprocessor = ColumnTransformer(\n",
    "    transformers=[\n",
    "        ('num', num_transformer, num_cols),\n",
    "        ('cat', cat_transformer, cat_cols)\n",
    "    ]\n",
    ")"
   ]
  },
  {
   "cell_type": "markdown",
   "id": "7572742d-c3ca-4630-a71f-1f92a28cdc78",
   "metadata": {},
   "source": [
    "# 6. Helper Function for Model Training"
   ]
  },
  {
   "cell_type": "code",
   "execution_count": 6,
   "id": "35a5a066-0a10-4517-a57b-d5525867a7f2",
   "metadata": {},
   "outputs": [],
   "source": [
    "def train_and_evaluate_model(name, model):\n",
    "    \"\"\"\n",
    "    Trains model with preprocessing pipeline and prints metrics.\n",
    "    \"\"\"\n",
    "    pipe = Pipeline(steps=[('preprocessor', preprocessor),\n",
    "                           ('classifier', model)])\n",
    "    pipe.fit(X_train, y_train)\n",
    "\n",
    "    # Predictions\n",
    "    y_pred = pipe.predict(X_test)\n",
    "    y_proba = pipe.predict_proba(X_test)[:, 1]\n",
    "\n",
    "    # Metrics\n",
    "    acc = accuracy_score(y_test, y_pred)\n",
    "    roc_auc = roc_auc_score(y_test, y_proba)\n",
    "    print(f\"\\n Model: {name}\")\n",
    "    print(f\"Accuracy: {acc:.4f}\")\n",
    "    print(f\"ROC-AUC: {roc_auc:.4f}\")\n",
    "    print(\"Confusion Matrix:\\n\", confusion_matrix(y_test, y_pred))\n",
    "    print(\"Classification Report:\\n\", classification_report(y_test, y_pred, digits=4))\n",
    "\n",
    "    return {'name': name, 'pipeline': pipe, 'y_pred': y_pred, 'y_proba': y_proba, 'acc': acc, 'roc_auc': roc_auc}"
   ]
  },
  {
   "cell_type": "markdown",
   "id": "043fc377-17c7-4ce9-a8b2-cc48acd6199f",
   "metadata": {},
   "source": [
    "#  7. Train Multiple Models"
   ]
  },
  {
   "cell_type": "code",
   "execution_count": 7,
   "id": "1abae4eb-34b8-430a-a985-06402d771fc5",
   "metadata": {},
   "outputs": [
    {
     "name": "stdout",
     "output_type": "stream",
     "text": [
      "\n",
      " Model: Logistic Regression\n",
      "Accuracy: 0.7517\n",
      "ROC-AUC: 0.8032\n",
      "Confusion Matrix:\n",
      " [[191  56]\n",
      " [ 17  30]]\n",
      "Classification Report:\n",
      "               precision    recall  f1-score   support\n",
      "\n",
      "           0     0.9183    0.7733    0.8396       247\n",
      "           1     0.3488    0.6383    0.4511        47\n",
      "\n",
      "    accuracy                         0.7517       294\n",
      "   macro avg     0.6336    0.7058    0.6453       294\n",
      "weighted avg     0.8272    0.7517    0.7775       294\n",
      "\n",
      "\n",
      " Model: Decision Tree\n",
      "Accuracy: 0.7653\n",
      "ROC-AUC: 0.6105\n",
      "Confusion Matrix:\n",
      " [[207  40]\n",
      " [ 29  18]]\n",
      "Classification Report:\n",
      "               precision    recall  f1-score   support\n",
      "\n",
      "           0     0.8771    0.8381    0.8571       247\n",
      "           1     0.3103    0.3830    0.3429        47\n",
      "\n",
      "    accuracy                         0.7653       294\n",
      "   macro avg     0.5937    0.6105    0.6000       294\n",
      "weighted avg     0.7865    0.7653    0.7749       294\n",
      "\n",
      "\n",
      " Model: Random Forest\n",
      "Accuracy: 0.8469\n",
      "ROC-AUC: 0.7832\n",
      "Confusion Matrix:\n",
      " [[244   3]\n",
      " [ 42   5]]\n",
      "Classification Report:\n",
      "               precision    recall  f1-score   support\n",
      "\n",
      "           0     0.8531    0.9879    0.9156       247\n",
      "           1     0.6250    0.1064    0.1818        47\n",
      "\n",
      "    accuracy                         0.8469       294\n",
      "   macro avg     0.7391    0.5471    0.5487       294\n",
      "weighted avg     0.8167    0.8469    0.7983       294\n",
      "\n"
     ]
    }
   ],
   "source": [
    "results = []\n",
    "\n",
    "# Logistic Regression\n",
    "lr = LogisticRegression(max_iter=1000, class_weight='balanced', random_state=42)\n",
    "results.append(train_and_evaluate_model(\"Logistic Regression\", lr))\n",
    "\n",
    "# Decision Tree\n",
    "dt = DecisionTreeClassifier(random_state=42)\n",
    "results.append(train_and_evaluate_model(\"Decision Tree\", dt))\n",
    "\n",
    "# Random Forest\n",
    "rf = RandomForestClassifier(n_estimators=200, random_state=42, class_weight='balanced', n_jobs=-1)\n",
    "results.append(train_and_evaluate_model(\"Random Forest\", rf))"
   ]
  },
  {
   "cell_type": "markdown",
   "id": "9358e1dd-f9eb-4a38-a188-68e9dfabcbf9",
   "metadata": {},
   "source": [
    "# 8. Compare ROC Curves"
   ]
  },
  {
   "cell_type": "code",
   "execution_count": 8,
   "id": "189418be-916f-497f-b3db-9c87f14fb83b",
   "metadata": {},
   "outputs": [
    {
     "data": {
      "image/png": "[encoded data removed]",
      "text/plain": [
       "<Figure size 800x600 with 1 Axes>"
      ]
     },
     "metadata": {},
     "output_type": "display_data"
    }
   ],
   "source": [
    "plt.figure(figsize=(8,6))\n",
    "for r in results:\n",
    "    fpr, tpr, _ = roc_curve(y_test, r['y_proba'])\n",
    "    plt.plot(fpr, tpr, label=f\"{r['name']} (AUC={r['roc_auc']:.3f})\")\n",
    "\n",
    "plt.plot([0,1],[0,1],'--', color='gray')\n",
    "plt.xlabel('False Positive Rate')\n",
    "plt.ylabel('True Positive Rate')\n",
    "plt.title('ROC Curve Comparison')\n",
    "plt.legend()\n",
    "plt.grid(True)\n",
    "plt.show()\n"
   ]
  },
  {
   "cell_type": "markdown",
   "id": "26da6080-bcec-4cea-bbf9-9f94e4e885ae",
   "metadata": {},
   "source": [
    "# 9. Identify Best Model"
   ]
  },
  {
   "cell_type": "code",
   "execution_count": 9,
   "id": "7e647c9a-e2f9-456c-bae6-7a172de2f2bf",
   "metadata": {},
   "outputs": [
    {
     "name": "stdout",
     "output_type": "stream",
     "text": [
      "\n",
      " Best Model: Logistic Regression (ROC-AUC = 0.8032)\n"
     ]
    }
   ],
   "source": [
    "best_model = max(results, key=lambda x: x['roc_auc'])\n",
    "print(f\"\\n Best Model: {best_model['name']} (ROC-AUC = {best_model['roc_auc']:.4f})\")"
   ]
  },
  {
   "cell_type": "markdown",
   "id": "964c57b5-aac1-4ec9-b144-51ddd1b2022b",
   "metadata": {},
   "source": [
    "# 10. Output"
   ]
  },
  {
   "cell_type": "code",
   "execution_count": 10,
   "id": "a17f8fbd-a32d-4546-835a-7ac91d144f42",
   "metadata": {},
   "outputs": [
    {
     "name": "stdout",
     "output_type": "stream",
     "text": [
      "\n",
      " Predictions saved to: C:\\Users\\rawat\\Desktop\\Internship\\Project 1\\outputs\\attrition_predictions_for_pbi.csv\n"
     ]
    }
   ],
   "source": [
    "output_dir = Path(\"outputs\")\n",
    "output_dir.mkdir(exist_ok=True)\n",
    "\n",
    "test_out = X_test.copy()\n",
    "test_out['actual'] = y_test.values\n",
    "test_out['pred_proba'] = best_model['y_proba']\n",
    "test_out['pred_label'] = best_model['y_pred']\n",
    "\n",
    "# Create Risk Level\n",
    "test_out['Risk_Level'] = np.where(\n",
    "    test_out['pred_proba'] >= 0.7, 'High',\n",
    "    np.where(test_out['pred_proba'] >= 0.4, 'Medium', 'Low')\n",
    ")\n",
    "\n",
    "# Save to CSV\n",
    "output_path = output_dir / \"attrition_predictions_for_pbi.csv\"\n",
    "test_out.to_csv(output_path, index=False)\n",
    "print(f\"\\n Predictions saved to: {output_path.resolve()}\")"
   ]
  },
  {
   "cell_type": "markdown",
   "id": "0a8fc2cc-3283-4eff-929d-506d63de628c",
   "metadata": {},
   "source": [
    "# Model Performance Summary"
   ]
  },
  {
   "cell_type": "code",
   "execution_count": 11,
   "id": "90d0fcd7-d88b-458d-9b8a-d1fc89aea78c",
   "metadata": {},
   "outputs": [
    {
     "name": "stdout",
     "output_type": "stream",
     "text": [
      " Model Performance Summary\n",
      "\n",
      "              Model  Accuracy  ROC_AUC\n",
      "Logistic Regression    0.7517   0.8032\n",
      "      Random Forest    0.8469   0.7832\n",
      "      Decision Tree    0.7653   0.6105\n"
     ]
    }
   ],
   "source": [
    "import pandas as pd\n",
    "\n",
    "summary = pd.DataFrame([\n",
    "    {'Model': r['name'], 'Accuracy': round(r['acc'], 4), 'ROC_AUC': round(r['roc_auc'], 4)}\n",
    "    for r in results\n",
    "])\n",
    "\n",
    "summary = summary.sort_values(by='ROC_AUC', ascending=False).reset_index(drop=True)\n",
    "\n",
    "print(\" Model Performance Summary\\n\")\n",
    "print(summary.to_string(index=False))\n"
   ]
  },
  {
   "cell_type": "code",
   "execution_count": null,
   "id": "3148e936-982e-4725-8d8d-406540da8b77",
   "metadata": {},
   "outputs": [],
   "source": []
  },
  {
   "cell_type": "code",
   "execution_count": null,
   "id": "8a8895ef-2d3b-498a-8846-0722b5937f07",
   "metadata": {},
   "outputs": [],
   "source": []
  },
  {
   "cell_type": "code",
   "execution_count": null,
   "id": "e07189b4-38bd-44be-97e4-b505d6ec37c3",
   "metadata": {},
   "outputs": [],
   "source": []
  }
 ],
 "metadata": {
  "kernelspec": {
   "display_name": "Python 3 (ipykernel)",
   "language": "python",
   "name": "python3"
  },
  "language_info": {
   "codemirror_mode": {
    "name": "ipython",
    "version": 3
   },
   "file_extension": ".py",
   "mimetype": "text/x-python",
   "name": "python",
   "nbconvert_exporter": "python",
   "pygments_lexer": "ipython3",
   "version": "3.13.7"
  }
 },
 "nbformat": 4,
 "nbformat_minor": 5
}
